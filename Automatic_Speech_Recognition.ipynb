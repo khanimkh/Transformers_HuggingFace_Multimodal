{
 "cells": [
  {
   "cell_type": "code",
   "execution_count": 1,
   "id": "3d3738ad-2701-490c-a88d-3c16a8f83d09",
   "metadata": {},
   "outputs": [],
   "source": [
    "from datasets import load_dataset"
   ]
  },
  {
   "cell_type": "code",
   "execution_count": null,
   "id": "d0c46aac-9159-489b-88eb-b0b3d2b98100",
   "metadata": {},
   "outputs": [],
   "source": [
    "dataset = load_dataset(\n",
    "    \"librispeech_asr\",\n",
    "    split=\"train.clean.100\",\n",
    "    streaming=False,  # default, downloads locally\n",
    "    trust_remote_code=True\n",
    ")"
   ]
  },
  {
   "cell_type": "code",
   "execution_count": null,
   "id": "27adcb1c-9ac6-4fca-85df-9f4716db939d",
   "metadata": {},
   "outputs": [],
   "source": [
    "# creates an iterator over the dataset object and then gets the first item from that iterator. \n",
    "example = next(iter(dataset))\n",
    "print(example)"
   ]
  },
  {
   "cell_type": "code",
   "execution_count": null,
   "id": "8c296ebb-57c6-431b-a082-2d56d6b0d223",
   "metadata": {},
   "outputs": [],
   "source": [
    "# or can returns an iterator over the first 5 examples of the dataset\n",
    "dataset_head = dataset.take(5)\n",
    "list(dataset_head)"
   ]
  },
  {
   "cell_type": "code",
   "execution_count": null,
   "id": "66ff63c8-93af-4362-b873-893f525fca6c",
   "metadata": {},
   "outputs": [],
   "source": [
    "list(dataset_head)[2]"
   ]
  },
  {
   "cell_type": "code",
   "execution_count": null,
   "id": "c135162f-76bf-423c-9c0b-cb06ae10fd6d",
   "metadata": {},
   "outputs": [],
   "source": [
    "from IPython.display import Audio as IPythonAudio\n",
    "\n",
    "IPythonAudio(example[\"audio\"][\"array\"],\n",
    "             rate=example[\"audio\"][\"sampling_rate\"])"
   ]
  }
 ],
 "metadata": {
  "kernelspec": {
   "display_name": "env_huggingface",
   "language": "python",
   "name": "env_huggingface"
  },
  "language_info": {
   "codemirror_mode": {
    "name": "ipython",
    "version": 3
   },
   "file_extension": ".py",
   "mimetype": "text/x-python",
   "name": "python",
   "nbconvert_exporter": "python",
   "pygments_lexer": "ipython3",
   "version": "3.11.9"
  }
 },
 "nbformat": 4,
 "nbformat_minor": 5
}
