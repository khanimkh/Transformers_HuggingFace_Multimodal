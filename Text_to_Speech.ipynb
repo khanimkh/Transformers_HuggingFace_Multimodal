{
 "cells": [
  {
   "cell_type": "code",
   "execution_count": 1,
   "id": "1ecdb1dc-5c07-47f6-8538-3f2a6209c700",
   "metadata": {},
   "outputs": [
    {
     "name": "stderr",
     "output_type": "stream",
     "text": [
      "Device set to use cpu\n"
     ]
    }
   ],
   "source": [
    "from transformers import pipeline\n",
    "\n",
    "narrator = pipeline(\"text-to-speech\",\n",
    "                    model=\"kakao-enterprise/vits-ljs\")"
   ]
  },
  {
   "cell_type": "code",
   "execution_count": 3,
   "id": "86182165-8194-4456-bf7d-61cc2ce80fd6",
   "metadata": {},
   "outputs": [],
   "source": [
    "text = \"\"\"\\\n",
    "Good morning, everyone! Today is a beautiful day filled with opportunities to learn, grow, and connect with others. \n",
    "Remember, every small step you take brings you closer to your goals. \n",
    "So, take a deep breath, smile, and make the most of this moment. \n",
    "The world is ready for your ideas, your kindness, and your unique energy.\"\"\"\n"
   ]
  },
  {
   "cell_type": "code",
   "execution_count": 13,
   "id": "c796c124-f1c0-4218-84f2-fcd78a21e66b",
   "metadata": {},
   "outputs": [],
   "source": [
    "# Run with speaker\n",
    "import pyttsx3\n",
    "\n",
    "narrator = pyttsx3.init()\n",
    "narrator.say(text)\n",
    "narrator.runAndWait()"
   ]
  },
  {
   "cell_type": "code",
   "execution_count": 27,
   "id": "c4ab66d8-44b2-45ea-bf5d-a8b0ec5db16d",
   "metadata": {},
   "outputs": [
    {
     "data": {
      "text/plain": [
       "0"
      ]
     },
     "execution_count": 27,
     "metadata": {},
     "output_type": "execute_result"
    }
   ],
   "source": [
    "# Save and Play audio on Windows\n",
    "from gtts import gTTS\n",
    "import os\n",
    "\n",
    "tts = gTTS(text)\n",
    "tts.save(\"text_to_speach.mp3\")\n",
    "os.system(\"text_to_speach.mp3\") "
   ]
  }
 ],
 "metadata": {
  "kernelspec": {
   "display_name": "env_huggingface",
   "language": "python",
   "name": "env_huggingface"
  },
  "language_info": {
   "codemirror_mode": {
    "name": "ipython",
    "version": 3
   },
   "file_extension": ".py",
   "mimetype": "text/x-python",
   "name": "python",
   "nbconvert_exporter": "python",
   "pygments_lexer": "ipython3",
   "version": "3.11.9"
  }
 },
 "nbformat": 4,
 "nbformat_minor": 5
}
