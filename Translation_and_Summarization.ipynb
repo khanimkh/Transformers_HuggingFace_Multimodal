{
 "cells": [
  {
   "cell_type": "code",
   "execution_count": 46,
   "id": "c0e0c3ee",
   "metadata": {},
   "outputs": [],
   "source": [
    "from transformers import pipeline \n",
    "import torch"
   ]
  },
  {
   "cell_type": "code",
   "execution_count": 50,
   "id": "b13c916a-3830-495c-b097-3fdfb8b23905",
   "metadata": {},
   "outputs": [],
   "source": [
    "# Translation \n",
    "translator = pipeline(task=\"translation\",\n",
    "                      model=\"facebook/nllb-200-distilled-600M\",\n",
    "                      torch_dtype=torch.bfloat16) "
   ]
  },
  {
   "cell_type": "code",
   "execution_count": 56,
   "id": "f34c80ff-be5f-49d5-9037-6e09a0543bd7",
   "metadata": {},
   "outputs": [],
   "source": [
    "text = \"\"\"\\\n",
    "My brother bakes tasty bread, \\\n",
    "Your sister paints colorful pictures. \\\n",
    "Our neighbor grows sweet strawberries. \\\n",
    "Their cousin plays cheerful music, \\\n",
    "And we all share our talents!\"\"\""
   ]
  },
  {
   "cell_type": "code",
   "execution_count": 62,
   "id": "66ef8624-0bad-4d39-b8f9-bf29ed60da55",
   "metadata": {},
   "outputs": [],
   "source": [
    "# Run translation\n",
    "text_translated = translator(\n",
    "    text,\n",
    "    src_lang=\"eng_Latn\",\n",
    "    tgt_lang=\"fra_Latn\"\n",
    ")"
   ]
  },
  {
   "cell_type": "code",
   "execution_count": 59,
   "id": "04b55370-dfde-4beb-a81c-9775b35072fb",
   "metadata": {},
   "outputs": [
    {
     "name": "stdout",
     "output_type": "stream",
     "text": [
      "Original text:\n",
      "My brother bakes tasty bread, Your sister paints colorful pictures. Our neighbor grows sweet strawberries. Their cousin plays cheerful music, And we all share our talents!\n",
      "\n",
      "Translated text:\n",
      "1. Mon frère cuit du pain savoureux, ta sœur peint des peintures colorées, notre voisin cultive des fraises douces, leur cousin joue de la musique joyeuse et nous partageons tous nos talents.\n"
     ]
    }
   ],
   "source": [
    "# Print nicely\n",
    "print(\"Original text:\")\n",
    "print(text)\n",
    "print(\"\\nTranslated text:\")\n",
    "for i, line in enumerate(text_translated, start=1):\n",
    "    print(f\"{i}. {line['translation_text']}\")"
   ]
  },
  {
   "cell_type": "code",
   "execution_count": 63,
   "id": "5c5ca205-2b7c-4677-8536-7a7ff5efde70",
   "metadata": {},
   "outputs": [
    {
     "data": {
      "text/plain": [
       "4774"
      ]
     },
     "execution_count": 63,
     "metadata": {},
     "output_type": "execute_result"
    }
   ],
   "source": [
    "# Free up some memory\n",
    "import gc\n",
    "del translator\n",
    "gc.collect()"
   ]
  },
  {
   "cell_type": "code",
   "execution_count": 66,
   "id": "910e5f52-76a3-4978-a40c-4d646e7e7aff",
   "metadata": {},
   "outputs": [
    {
     "data": {
      "application/vnd.jupyter.widget-view+json": {
       "model_id": "9c4bdc2b05d34658b2cdc1030912d68e",
       "version_major": 2,
       "version_minor": 0
      },
      "text/plain": [
       "config.json: 0.00B [00:00, ?B/s]"
      ]
     },
     "metadata": {},
     "output_type": "display_data"
    },
    {
     "name": "stderr",
     "output_type": "stream",
     "text": [
      "C:\\Users\\mkhani\\AppData\\Local\\Packages\\PythonSoftwareFoundation.Python.3.11_qbz5n2kfra8p0\\LocalCache\\local-packages\\Python311\\site-packages\\huggingface_hub\\file_download.py:143: UserWarning: `huggingface_hub` cache-system uses symlinks by default to efficiently store duplicated files but your machine does not support them in C:\\Users\\mkhani\\.cache\\huggingface\\hub\\models--facebook--bart-large-cnn. Caching files will still work but in a degraded version that might require more space on your disk. This warning can be disabled by setting the `HF_HUB_DISABLE_SYMLINKS_WARNING` environment variable. For more details, see https://huggingface.co/docs/huggingface_hub/how-to-cache#limitations.\n",
      "To support symlinks on Windows, you either need to activate Developer Mode or to run Python as an administrator. In order to activate developer mode, see this article: https://docs.microsoft.com/en-us/windows/apps/get-started/enable-your-device-for-development\n",
      "  warnings.warn(message)\n",
      "Xet Storage is enabled for this repo, but the 'hf_xet' package is not installed. Falling back to regular HTTP download. For better performance, install the package with: `pip install huggingface_hub[hf_xet]` or `pip install hf_xet`\n"
     ]
    },
    {
     "data": {
      "application/vnd.jupyter.widget-view+json": {
       "model_id": "43527217ed764460ace173b7df29887b",
       "version_major": 2,
       "version_minor": 0
      },
      "text/plain": [
       "model.safetensors:   0%|          | 0.00/1.63G [00:00<?, ?B/s]"
      ]
     },
     "metadata": {},
     "output_type": "display_data"
    },
    {
     "data": {
      "application/vnd.jupyter.widget-view+json": {
       "model_id": "b4b739576b804ab9b0f23e936b13a3fc",
       "version_major": 2,
       "version_minor": 0
      },
      "text/plain": [
       "generation_config.json:   0%|          | 0.00/363 [00:00<?, ?B/s]"
      ]
     },
     "metadata": {},
     "output_type": "display_data"
    },
    {
     "data": {
      "application/vnd.jupyter.widget-view+json": {
       "model_id": "55747386e4d44c0582c733a1762f2b4e",
       "version_major": 2,
       "version_minor": 0
      },
      "text/plain": [
       "vocab.json: 0.00B [00:00, ?B/s]"
      ]
     },
     "metadata": {},
     "output_type": "display_data"
    },
    {
     "data": {
      "application/vnd.jupyter.widget-view+json": {
       "model_id": "e03e414340f243f98fbcc2841a8d075a",
       "version_major": 2,
       "version_minor": 0
      },
      "text/plain": [
       "merges.txt: 0.00B [00:00, ?B/s]"
      ]
     },
     "metadata": {},
     "output_type": "display_data"
    },
    {
     "data": {
      "application/vnd.jupyter.widget-view+json": {
       "model_id": "147bd5f2e5c64cf7b563e2b6da70aeed",
       "version_major": 2,
       "version_minor": 0
      },
      "text/plain": [
       "tokenizer.json: 0.00B [00:00, ?B/s]"
      ]
     },
     "metadata": {},
     "output_type": "display_data"
    }
   ],
   "source": [
    "# Summarization\n",
    "summarizer = pipeline(task=\"summarization\",\n",
    "                      model=\"facebook/bart-large-cnn\",\n",
    "                      torch_dtype=torch.bfloat16)"
   ]
  },
  {
   "cell_type": "code",
   "execution_count": 67,
   "id": "d921bfb8-0269-436f-b09e-3caf08234113",
   "metadata": {},
   "outputs": [],
   "source": [
    "text = \"\"\"\\\n",
    "In recent years, renewable energy has grown at an unprecedented rate, driven by advances in technology and global efforts to combat climate change. \n",
    "Solar panels are becoming more efficient and affordable, allowing households and businesses to generate their own electricity. \n",
    "Similarly, wind turbines are now capable of producing power even in areas with lower wind speeds. \n",
    "Governments around the world are investing heavily in clean energy infrastructure, offering incentives and subsidies to encourage adoption. \n",
    "Despite these advancements, challenges remain, including the need for better energy storage solutions and the modernization of power grids. \n",
    "Experts believe that with continued innovation and collaboration, renewable energy could become the dominant source of electricity within the next few decades.\"\"\""
   ]
  },
  {
   "cell_type": "code",
   "execution_count": 68,
   "id": "87ae867a-3815-47c1-abad-70bb6718038e",
   "metadata": {},
   "outputs": [],
   "source": [
    "summary = summarizer(text,\n",
    "                     min_length=10,\n",
    "                     max_length=100)"
   ]
  },
  {
   "cell_type": "code",
   "execution_count": 69,
   "id": "17d2d914-dde4-4bc2-b2bf-a10593dca45e",
   "metadata": {},
   "outputs": [
    {
     "name": "stdout",
     "output_type": "stream",
     "text": [
      "Original text:\n",
      "\n",
      "In recent years, renewable energy has grown at an unprecedented rate, driven by advances in technology and global efforts to combat climate change. \n",
      "Solar panels are becoming more efficient and affordable, allowing households and businesses to generate their own electricity. \n",
      "Similarly, wind turbines are now capable of producing power even in areas with lower wind speeds. \n",
      "Governments around the world are investing heavily in clean energy infrastructure, offering incentives and subsidies to encourage adoption. \n",
      "Despite these advancements, challenges remain, including the need for better energy storage solutions and the modernization of power grids. \n",
      "Experts believe that with continued innovation and collaboration, renewable energy could become the dominant source of electricity within the next few decades.\n",
      "\n",
      "--- Summary ---\n",
      "\n",
      "Renewable energy has grown at an unprecedented rate, driven by advances in technology and global efforts to combat climate change. Experts believe that with continued innovation and collaboration, renewable energy could become the dominant source of electricity within the next few decades.\n"
     ]
    }
   ],
   "source": [
    "# Print results\n",
    "print(\"Original text:\\n\")\n",
    "print(text)\n",
    "print(\"\\n--- Summary ---\\n\")\n",
    "print(summary[0]['summary_text'])"
   ]
  },
  {
   "cell_type": "code",
   "execution_count": null,
   "id": "ce176cd3-edd1-4622-af3b-5b590dd09ab5",
   "metadata": {},
   "outputs": [],
   "source": []
  }
 ],
 "metadata": {
  "kernelspec": {
   "display_name": "env_huggingface",
   "language": "python",
   "name": "env_huggingface"
  },
  "language_info": {
   "codemirror_mode": {
    "name": "ipython",
    "version": 3
   },
   "file_extension": ".py",
   "mimetype": "text/x-python",
   "name": "python",
   "nbconvert_exporter": "python",
   "pygments_lexer": "ipython3",
   "version": "3.11.9"
  }
 },
 "nbformat": 4,
 "nbformat_minor": 5
}
